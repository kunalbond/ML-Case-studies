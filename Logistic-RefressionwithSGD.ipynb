{
 "cells": [
  {
   "cell_type": "code",
   "execution_count": 3,
   "metadata": {},
   "outputs": [
    {
     "name": "stderr",
     "output_type": "stream",
     "text": [
      "100%|██████████████████████████████████████████████████████████████████████████████████| 10/10 [00:13<00:00,  1.34s/it]\n"
     ]
    },
    {
     "name": "stdout",
     "output_type": "stream",
     "text": [
      "[[-0.42320236  0.19097504 -0.14588903  0.33813461 -0.21204107  0.56528021\n",
      "  -0.44537758 -0.09169276  0.21798654  0.16980147  0.19524869  0.00226123\n",
      "  -0.0778474   0.33881857  0.02215503]]\n",
      "-0.8505912797715787\n"
     ]
    },
    {
     "data": {
      "image/png": "[encoded data removed]",
      "text/plain": [
       "<Figure size 432x288 with 1 Axes>"
      ]
     },
     "metadata": {
      "needs_background": "light"
     },
     "output_type": "display_data"
    }
   ],
   "source": [
    "import numpy as np\n",
    "import pandas as pd\n",
    "from sklearn.datasets import make_classification\n",
    "from sklearn.model_selection import train_test_split\n",
    "import math\n",
    "import matplotlib.pyplot as plt\n",
    "from tqdm import tqdm\n",
    "X, y = make_classification(n_samples=50000, n_features=15, n_informative=10, n_redundant=5,\n",
    "                           n_classes=2, weights=[0.7], class_sep=0.7, random_state=15)\n",
    "X_train, X_test, y_train, y_test = train_test_split(X, y, test_size=0.25, random_state=15)\n",
    "w = np.zeros_like(X_train[0]).reshape(1,len(X_train[0]))\n",
    "b = 0\n",
    "eta0  = 0.0001\n",
    "alpha = 0.0001\n",
    "log_losstrain=0\n",
    "log_losstru=[]\n",
    "log_losstest=0\n",
    "log_lossteu=[]\n",
    "epochs =[]\n",
    "for j in tqdm(range(10)):\n",
    "    s = 0;t = 0\n",
    "    for i in range(len(X_train)):\n",
    "           w1 =(1-((eta0*alpha)/len(X_train)))*w + (eta0*X_train[i,:])*(y_train[i]-(1/(1+math.exp(-1*(np.dot(w,X_train[i,:])+b)))))\n",
    "           b1 = b + eta0*(y_train[i]-(1/(1+math.exp(-1*(np.dot(w,X_train[i,:])+b)))))\n",
    "           w=w1\n",
    "           b=b1\n",
    "    for k in range(len(X_train)):\n",
    "        s += (-y_train[k]*(math.log(1/(1+math.exp(-1*(np.dot(w,X_train[k,:])+b))))))-((1-y_train[k])*(math.log(1-(1/(1+math.exp(-1*(np.dot(w,X_train[k,:])+b))))))) \n",
    "    log_losstru.append(s/len(X_train))\n",
    "    for k in range(len(X_test)):  \n",
    "        t += (-y_test[k]*(math.log(1/(1+math.exp(-1*(np.dot(w,X_test[k,:])+b))))))-((1-y_test[k])*(math.log(1-(1/(1+math.exp(-1*(np.dot(w,X_test[k,:])+b)))))))\n",
    "    log_lossteu.append(t/len(X_test)) \n",
    "    epochs.append(j)\n",
    "print(w)\n",
    "print(b)\n",
    "plt.xlabel('epoch')\n",
    "plt.ylabel('log loss for training and test set')\n",
    "plt.style.use('seaborn-whitegrid')\n",
    "plt.plot(epochs,log_losstru,linestyle='solid',label = 'training')\n",
    "plt.plot(epochs,log_lossteu,linestyle='solid',label = 'test')\n",
    "plt.legend(loc ='best')\n",
    "plt.show()"
   ]
  },
  {
   "cell_type": "markdown",
   "metadata": {},
   "source": [
    "Observation:\n",
    "Log loss is lower in training as compared to test data set. "
   ]
  },
  {
   "cell_type": "code",
   "execution_count": 4,
   "metadata": {},
   "outputs": [
    {
     "name": "stdout",
     "output_type": "stream",
     "text": [
      "-- Epoch 1\n",
      "Norm: 0.77, NNZs: 15, Bias: -0.316653, T: 37500, Avg. loss: 0.455552\n",
      "Total training time: 0.01 seconds.\n",
      "-- Epoch 2\n",
      "Norm: 0.91, NNZs: 15, Bias: -0.472747, T: 75000, Avg. loss: 0.394686\n",
      "Total training time: 0.02 seconds.\n",
      "-- Epoch 3\n",
      "Norm: 0.98, NNZs: 15, Bias: -0.580082, T: 112500, Avg. loss: 0.385711\n",
      "Total training time: 0.04 seconds.\n",
      "-- Epoch 4\n",
      "Norm: 1.02, NNZs: 15, Bias: -0.658292, T: 150000, Avg. loss: 0.382083\n",
      "Total training time: 0.05 seconds.\n",
      "-- Epoch 5\n",
      "Norm: 1.04, NNZs: 15, Bias: -0.719528, T: 187500, Avg. loss: 0.380486\n",
      "Total training time: 0.06 seconds.\n",
      "-- Epoch 6\n",
      "Norm: 1.05, NNZs: 15, Bias: -0.763409, T: 225000, Avg. loss: 0.379578\n",
      "Total training time: 0.08 seconds.\n",
      "-- Epoch 7\n",
      "Norm: 1.06, NNZs: 15, Bias: -0.795106, T: 262500, Avg. loss: 0.379150\n",
      "Total training time: 0.09 seconds.\n",
      "-- Epoch 8\n",
      "Norm: 1.06, NNZs: 15, Bias: -0.819925, T: 300000, Avg. loss: 0.378856\n",
      "Total training time: 0.10 seconds.\n",
      "-- Epoch 9\n",
      "Norm: 1.07, NNZs: 15, Bias: -0.837805, T: 337500, Avg. loss: 0.378585\n",
      "Total training time: 0.12 seconds.\n",
      "-- Epoch 10\n",
      "Norm: 1.08, NNZs: 15, Bias: -0.853138, T: 375000, Avg. loss: 0.378630\n",
      "Total training time: 0.13 seconds.\n",
      "Convergence after 10 epochs took 0.13 seconds\n"
     ]
    },
    {
     "data": {
      "text/plain": [
       "(array([[-0.42336692,  0.18547565, -0.14859036,  0.34144407, -0.2081867 ,\n",
       "          0.56016579, -0.45242483, -0.09408813,  0.2092732 ,  0.18084126,\n",
       "          0.19705191,  0.00421916, -0.0796037 ,  0.33852802,  0.02266721]]),\n",
       " (1, 15),\n",
       " array([-0.8531383]))"
      ]
     },
     "execution_count": 4,
     "metadata": {},
     "output_type": "execute_result"
    }
   ],
   "source": [
    "from sklearn import linear_model\n",
    "clf = linear_model.SGDClassifier(eta0=0.0001, alpha=0.0001, loss='log', random_state=15, penalty='l2', tol=1e-3, verbose=2, learning_rate='constant')\n",
    "clf.fit(X=X_train, y=y_train)\n",
    "clf.coef_, clf.coef_.shape, clf.intercept_"
   ]
  },
  {
   "cell_type": "code",
   "execution_count": 5,
   "metadata": {},
   "outputs": [
    {
     "data": {
      "text/plain": [
       "(array([0.00254702]),\n",
       " array([[ 0.00016455,  0.00549939,  0.00270133, -0.00330946, -0.00385437,\n",
       "          0.00511442,  0.00704724,  0.00239537,  0.00871335, -0.01103979,\n",
       "         -0.00180322, -0.00195793,  0.0017563 ,  0.00029055, -0.00051218]]))"
      ]
     },
     "execution_count": 5,
     "metadata": {},
     "output_type": "execute_result"
    }
   ],
   "source": [
    "b-clf.intercept_,w-clf.coef_"
   ]
  },
  {
   "cell_type": "markdown",
   "metadata": {},
   "source": [
    "Observation: Difference is under 10^-3"
   ]
  }
 ],
 "metadata": {
  "kernelspec": {
   "display_name": "Python 3",
   "language": "python",
   "name": "python3"
  },
  "language_info": {
   "codemirror_mode": {
    "name": "ipython",
    "version": 3
   },
   "file_extension": ".py",
   "mimetype": "text/x-python",
   "name": "python",
   "nbconvert_exporter": "python",
   "pygments_lexer": "ipython3",
   "version": "3.7.4"
  }
 },
 "nbformat": 4,
 "nbformat_minor": 2
}
