{
 "cells": [
  {
   "cell_type": "code",
   "execution_count": 2,
   "metadata": {},
   "outputs": [
    {
     "name": "stdout",
     "output_type": "stream",
     "text": [
      "Confusion matrix =  [[    0     0]\n",
      " [  100 10000]]\n",
      "F1 Score =  0.9950248756218906\n",
      "Accuracy Score =  0.9900990099009901\n"
     ]
    },
    {
     "data": {
      "image/png": "[encoded data removed]",
      "text/plain": [
       "<Figure size 432x288 with 1 Axes>"
      ]
     },
     "metadata": {
      "needs_background": "light"
     },
     "output_type": "display_data"
    },
    {
     "name": "stdout",
     "output_type": "stream",
     "text": [
      "Area under Curve = 0.48829900000000004\n"
     ]
    }
   ],
   "source": [
    "import numpy as np\n",
    "import pandas as pd\n",
    "import matplotlib.pyplot as plt\n",
    "df = pd.read_csv('5_a.csv')\n",
    "ori = np.array(df['proba'])\n",
    "pre = np.array(df['proba'])\n",
    "act = np.array(df['y'])\n",
    "TP = 0;TN = 0;FP=0;FN=0\n",
    "for i in range(len(pre)):\n",
    "    if pre[i] > 0.5:\n",
    "        pre[i]= 1\n",
    "    else:\n",
    "        pre[i] = 0\n",
    "df['proba'] = pre\n",
    "pred_positive_points = len(df[df['proba']==1])\n",
    "pred_negative_points = len(df[df['proba']==0])\n",
    "act_positive_points = len(df[df['y']==1])\n",
    "act_negative_points = len(df[df['y']==0])\n",
    "#Part 1\n",
    "for i in range(len(pre)):\n",
    "    if pre[i]==1 and act[i]==1:\n",
    "        TP+= 1\n",
    "    elif pre[i]==0 and act[i]==0:\n",
    "        TN+= 1\n",
    "    elif pre[i]==0 and act[i]==1:\n",
    "        FN+= 1\n",
    "    elif pre[i]==1 and act[i]==0:\n",
    "        FP+= 1\n",
    "CF_matrix = np.array([[TN,FN],[FP,TP]])\n",
    "print(\"Confusion matrix = \",CF_matrix)\n",
    "\n",
    "#Part 2 \n",
    "Prec = TP/(TP+FP)\n",
    "Re = TP/(TP+FN)\n",
    "F1 = (2*Prec*Re)/(Prec+Re)\n",
    "print(\"F1 Score = \",F1)\n",
    "\n",
    "#Part 4\n",
    "Accuracy_Score = (TP+TN)/(TP+TN+FP+FN)\n",
    "print(\"Accuracy Score = \",Accuracy_Score)\n",
    "\n",
    "#Part 3\n",
    "TPR=[];FPR=[]\n",
    "d = {ori[i]:act[i] for i in range(len(ori))}\n",
    "e = sorted(d.keys(),reverse=True)\n",
    "for i in range(len(act)):\n",
    "    c=[];TP1=0;FP1=0\n",
    "    for j,k in enumerate(e):\n",
    "        if e[i] <= e[j]:\n",
    "            c.append(1)\n",
    "        else:\n",
    "            c.append(0)\n",
    "    for l in range(len(c)):\n",
    "        if c[l]==1 and d[e[l]]==1:\n",
    "            TP1+= 1\n",
    "        elif c[l]==1 and d[e[l]]==0:\n",
    "            FP1+= 1\n",
    "    TPR.append(TP1/act_positive_points)\n",
    "    FPR.append(FP1/act_negative_points)\n",
    "AUC = np.trapz(TPR,FPR)\n",
    "plt.plot(FPR,TPR)\n",
    "plt.xlabel('FPR')\n",
    "plt.ylabel('TPR')\n",
    "plt.show()\n",
    "print(\"Area under Curve =\",AUC)"
   ]
  },
  {
   "cell_type": "markdown",
   "metadata": {},
   "source": [
    "Part B"
   ]
  },
  {
   "cell_type": "code",
   "execution_count": 3,
   "metadata": {},
   "outputs": [
    {
     "name": "stdout",
     "output_type": "stream",
     "text": [
      "Confusion matrix =  [[9761   45]\n",
      " [ 239   55]]\n",
      "F1 Score =  0.2791878172588833\n",
      "Accuracy Score =  0.9718811881188119\n"
     ]
    },
    {
     "data": {
      "image/png": "[encoded data removed]",
      "text/plain": [
       "<Figure size 432x288 with 1 Axes>"
      ]
     },
     "metadata": {
      "needs_background": "light"
     },
     "output_type": "display_data"
    },
    {
     "name": "stdout",
     "output_type": "stream",
     "text": [
      "Area under Curve = 0.9377570000000001\n"
     ]
    }
   ],
   "source": [
    "df = pd.read_csv('5_b.csv')\n",
    "ori = np.array(df['proba'])\n",
    "pre = np.array(df['proba'])\n",
    "act = np.array(df['y'])\n",
    "TP = 0;TN = 0;FP=0;FN=0\n",
    "for i in range(len(pre)):\n",
    "    if pre[i] > 0.5:\n",
    "        pre[i]= 1\n",
    "    else:\n",
    "        pre[i] = 0\n",
    "df['proba'] = pre\n",
    "pred_positive_points = len(df[df['proba']==1])\n",
    "pred_negative_points = len(df[df['proba']==0])\n",
    "act_positive_points = len(df[df['y']==1])\n",
    "act_negative_points = len(df[df['y']==0])\n",
    "#Part 1\n",
    "for i in range(len(pre)):\n",
    "    if pre[i]==1 and act[i]==1:\n",
    "        TP+= 1\n",
    "    elif pre[i]==0 and act[i]==0:\n",
    "        TN+= 1\n",
    "    elif pre[i]==0 and act[i]==1:\n",
    "        FN+= 1\n",
    "    elif pre[i]==1 and act[i]==0:\n",
    "        FP+= 1\n",
    "CF_matrix = np.array([[TN,FN],[FP,TP]])\n",
    "print(\"Confusion matrix = \",CF_matrix)\n",
    "\n",
    "#Part 2 \n",
    "Prec = TP/(TP+FP)\n",
    "Re = TP/(TP+FN)\n",
    "F1 = (2*Prec*Re)/(Prec+Re)\n",
    "print(\"F1 Score = \",F1)\n",
    "\n",
    "#Part 4\n",
    "Accuracy_Score = (TP+TN)/(TP+TN+FP+FN)\n",
    "print(\"Accuracy Score = \",Accuracy_Score)\n",
    "\n",
    "#Part 3\n",
    "TPR=[];FPR=[]\n",
    "d = {ori[i]:act[i] for i in range(len(ori))}\n",
    "e = sorted(d.keys(),reverse=True)\n",
    "for i in range(len(act)):\n",
    "    c=[];TP1=0;FP1=0\n",
    "    for j,k in enumerate(e):\n",
    "        if e[i] <= e[j]:\n",
    "            c.append(1)\n",
    "        else:\n",
    "            c.append(0)\n",
    "    for l in range(len(c)):\n",
    "        if c[l]==1 and d[e[l]]==1:\n",
    "            TP1+= 1\n",
    "        elif c[l]==1 and d[e[l]]==0:\n",
    "            FP1+= 1\n",
    "    TPR.append(TP1/act_positive_points)\n",
    "    FPR.append(FP1/act_negative_points)\n",
    "AUC = np.trapz(TPR,FPR)\n",
    "plt.plot(FPR,TPR)\n",
    "plt.xlabel('FPR')\n",
    "plt.ylabel('TPR')\n",
    "plt.show()\n",
    "print(\"Area under Curve =\",AUC)    "
   ]
  },
  {
   "cell_type": "markdown",
   "metadata": {},
   "source": [
    "Part C"
   ]
  },
  {
   "cell_type": "code",
   "execution_count": 6,
   "metadata": {},
   "outputs": [
    {
     "name": "stdout",
     "output_type": "stream",
     "text": [
      "Lowest value of metric A = 140000.0\n",
      "Best Threshold corresponding to Amin =  0.250403339798386\n"
     ]
    }
   ],
   "source": [
    "import numpy as np\n",
    "import pandas as pd\n",
    "df = pd.read_csv('5_c.csv')\n",
    "ori = np.array(df['prob'])\n",
    "pre = np.array(df['prob'])\n",
    "act = np.array(df['y'])\n",
    "TP = 0;TN = 0;FP=0;FN=0\n",
    "d = {ori[i]:act[i] for i in range(len(ori))}\n",
    "e = sorted(d.keys(),reverse=True)\n",
    "A=np.empty(len(e))\n",
    "for i in range(len(e)):\n",
    "    c=[];FP1=0;FN1=0\n",
    "    for j,k in enumerate(e):\n",
    "        if e[i] <= e[j]:\n",
    "            c.append(1)\n",
    "        else:\n",
    "            c.append(0)\n",
    "    for l in range(len(c)):\n",
    "        if c[l]==1 and d[e[l]]==0:\n",
    "            FP1+= 1\n",
    "        elif c[l]==0 and d[e[l]]==1:\n",
    "            FN1+= 1\n",
    "    A[i]= 500*FN1+100*FP1\n",
    "print(\"Lowest value of metric A =\",A.min())\n",
    "print(\"Best Threshold corresponding to Amin = \",e[A.argmin()])\n",
    "for i in range(len(pre)):\n",
    "    if pre[i] > e[A.argmin()]:\n",
    "        pre[i]= 1\n",
    "    else:\n",
    "        pre[i] = 0\n",
    "df['pre']= pre"
   ]
  },
  {
   "cell_type": "markdown",
   "metadata": {},
   "source": [
    "Part D"
   ]
  },
  {
   "cell_type": "code",
   "execution_count": 21,
   "metadata": {},
   "outputs": [
    {
     "name": "stdout",
     "output_type": "stream",
     "text": [
      "mean_square_error =  177.16569974554707\n",
      "Mean absolute Percentage Error =  0.1291202994009687\n",
      "Coefficient of Determination =  0.9563582786990964\n"
     ]
    }
   ],
   "source": [
    "import numpy as np\n",
    "import pandas as pd\n",
    "df = pd.read_csv('5_d.csv')\n",
    "act = np.array(df['y'])\n",
    "pre = np.array(df['pred'])\n",
    "#Part 1\n",
    "s = 0\n",
    "for i in range(len(act)):\n",
    "        s = s + (act[i]-pre[i])*(act[i]-pre[i])\n",
    "mean_square_error = s/len(act)\n",
    "print(\"mean_square_error = \",mean_square_error)\n",
    "\n",
    "#Part 2\n",
    "t = 0;a = 0\n",
    "for i in range(len(act)):\n",
    "    t = t + abs(act[i]-pre[i])\n",
    "    a = a + act[i]\n",
    "MAPE = t/a\n",
    "print(\"Mean absolute Percentage Error = \",MAPE)\n",
    "\n",
    "#Part 3\n",
    "total = 0\n",
    "mean_act = a/len(act)\n",
    "for i in range(len(act)):\n",
    "    total = total + (act[i]-mean_act)*(act[i]-mean_act)\n",
    "R2 = 1 - s/total\n",
    "print(\"Coefficient of Determination = \",R2)\n",
    "    "
   ]
  }
 ],
 "metadata": {
  "kernelspec": {
   "display_name": "Python 3",
   "language": "python",
   "name": "python3"
  },
  "language_info": {
   "codemirror_mode": {
    "name": "ipython",
    "version": 3
   },
   "file_extension": ".py",
   "mimetype": "text/x-python",
   "name": "python",
   "nbconvert_exporter": "python",
   "pygments_lexer": "ipython3",
   "version": "3.7.4"
  }
 },
 "nbformat": 4,
 "nbformat_minor": 2
}
