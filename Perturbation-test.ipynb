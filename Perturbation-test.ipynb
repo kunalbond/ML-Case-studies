{
 "cells": [
  {
   "cell_type": "code",
   "execution_count": 2,
   "metadata": {},
   "outputs": [
    {
     "data": {
      "text/html": [
       "<div>\n",
       "<style scoped>\n",
       "    .dataframe tbody tr th:only-of-type {\n",
       "        vertical-align: middle;\n",
       "    }\n",
       "\n",
       "    .dataframe tbody tr th {\n",
       "        vertical-align: top;\n",
       "    }\n",
       "\n",
       "    .dataframe thead th {\n",
       "        text-align: right;\n",
       "    }\n",
       "</style>\n",
       "<table border=\"1\" class=\"dataframe\">\n",
       "  <thead>\n",
       "    <tr style=\"text-align: right;\">\n",
       "      <th></th>\n",
       "      <th>x</th>\n",
       "      <th>y</th>\n",
       "      <th>z</th>\n",
       "      <th>x*x</th>\n",
       "      <th>2*y</th>\n",
       "      <th>2*z+3*x*x</th>\n",
       "      <th>w</th>\n",
       "      <th>target</th>\n",
       "    </tr>\n",
       "  </thead>\n",
       "  <tbody>\n",
       "    <tr>\n",
       "      <th>0</th>\n",
       "      <td>-0.581066</td>\n",
       "      <td>0.841837</td>\n",
       "      <td>-1.012978</td>\n",
       "      <td>-0.604025</td>\n",
       "      <td>0.841837</td>\n",
       "      <td>-0.665927</td>\n",
       "      <td>-0.536277</td>\n",
       "      <td>0</td>\n",
       "    </tr>\n",
       "    <tr>\n",
       "      <th>1</th>\n",
       "      <td>-0.894309</td>\n",
       "      <td>-0.207835</td>\n",
       "      <td>-1.012978</td>\n",
       "      <td>-0.883052</td>\n",
       "      <td>-0.207835</td>\n",
       "      <td>-0.917054</td>\n",
       "      <td>-0.522364</td>\n",
       "      <td>0</td>\n",
       "    </tr>\n",
       "    <tr>\n",
       "      <th>2</th>\n",
       "      <td>-1.207552</td>\n",
       "      <td>0.212034</td>\n",
       "      <td>-1.082312</td>\n",
       "      <td>-1.150918</td>\n",
       "      <td>0.212034</td>\n",
       "      <td>-1.166507</td>\n",
       "      <td>0.205738</td>\n",
       "      <td>0</td>\n",
       "    </tr>\n",
       "    <tr>\n",
       "      <th>3</th>\n",
       "      <td>-1.364174</td>\n",
       "      <td>0.002099</td>\n",
       "      <td>-0.943643</td>\n",
       "      <td>-1.280666</td>\n",
       "      <td>0.002099</td>\n",
       "      <td>-1.266540</td>\n",
       "      <td>-0.665720</td>\n",
       "      <td>0</td>\n",
       "    </tr>\n",
       "    <tr>\n",
       "      <th>4</th>\n",
       "      <td>-0.737687</td>\n",
       "      <td>1.051772</td>\n",
       "      <td>-1.012978</td>\n",
       "      <td>-0.744934</td>\n",
       "      <td>1.051772</td>\n",
       "      <td>-0.792746</td>\n",
       "      <td>-0.735054</td>\n",
       "      <td>0</td>\n",
       "    </tr>\n",
       "  </tbody>\n",
       "</table>\n",
       "</div>"
      ],
      "text/plain": [
       "          x         y         z       x*x       2*y  2*z+3*x*x         w  \\\n",
       "0 -0.581066  0.841837 -1.012978 -0.604025  0.841837  -0.665927 -0.536277   \n",
       "1 -0.894309 -0.207835 -1.012978 -0.883052 -0.207835  -0.917054 -0.522364   \n",
       "2 -1.207552  0.212034 -1.082312 -1.150918  0.212034  -1.166507  0.205738   \n",
       "3 -1.364174  0.002099 -0.943643 -1.280666  0.002099  -1.266540 -0.665720   \n",
       "4 -0.737687  1.051772 -1.012978 -0.744934  1.051772  -0.792746 -0.735054   \n",
       "\n",
       "   target  \n",
       "0       0  \n",
       "1       0  \n",
       "2       0  \n",
       "3       0  \n",
       "4       0  "
      ]
     },
     "execution_count": 2,
     "metadata": {},
     "output_type": "execute_result"
    }
   ],
   "source": [
    "import warnings\n",
    "warnings.filterwarnings(\"ignore\")\n",
    "import pandas as pd\n",
    "import numpy as np\n",
    "from sklearn.datasets import load_iris\n",
    "from sklearn.linear_model import SGDClassifier\n",
    "from sklearn.model_selection import GridSearchCV\n",
    "import seaborn as sns\n",
    "import matplotlib.pyplot as plt\n",
    "data = pd.read_csv('task_d.csv')\n",
    "data.head()"
   ]
  },
  {
   "cell_type": "code",
   "execution_count": 3,
   "metadata": {},
   "outputs": [
    {
     "data": {
      "text/plain": [
       "x            0.728290\n",
       "y           -0.690684\n",
       "z            0.969990\n",
       "x*x          0.719570\n",
       "2*y         -0.690684\n",
       "2*z+3*x*x    0.764729\n",
       "w            0.641750\n",
       "target       1.000000\n",
       "Name: target, dtype: float64"
      ]
     },
     "execution_count": 3,
     "metadata": {},
     "output_type": "execute_result"
    }
   ],
   "source": [
    "X = data.drop(['target'], axis=1).values\n",
    "Y = data['target'].values\n",
    "data.corr()['target']"
   ]
  },
  {
   "cell_type": "code",
   "execution_count": 4,
   "metadata": {},
   "outputs": [
    {
     "data": {
      "image/png": "[encoded data removed]",
      "text/plain": [
       "<Figure size 432x288 with 1 Axes>"
      ]
     },
     "metadata": {
      "needs_background": "light"
     },
     "output_type": "display_data"
    }
   ],
   "source": [
    "sns.heatmap(data.corr(),annot =True,cmap= 'coolwarm',linewidths=2, linecolor='black',cbar=False)\n",
    "plt.show()"
   ]
  },
  {
   "cell_type": "code",
   "execution_count": 5,
   "metadata": {},
   "outputs": [
    {
     "name": "stdout",
     "output_type": "stream",
     "text": [
      "[0.05890239]\n",
      "1.0\n",
      "[[ 0.40816098 -0.51879248  0.78570391  0.38758667 -0.51879248  0.44369133\n",
      "   0.34622324]]\n"
     ]
    }
   ],
   "source": [
    "from sklearn.linear_model import LogisticRegression\n",
    "clf = LogisticRegression(C= 0.1,random_state=15)\n",
    "clf.fit(X=X, y=Y)\n",
    "print(clf.intercept_)\n",
    "print(clf.score(X=X,y=Y))\n",
    "print(clf.coef_)"
   ]
  },
  {
   "cell_type": "code",
   "execution_count": 6,
   "metadata": {},
   "outputs": [
    {
     "name": "stdout",
     "output_type": "stream",
     "text": [
      "LogisticRegression(C=0.0001, class_weight=None, dual=False, fit_intercept=True,\n",
      "                   intercept_scaling=1, l1_ratio=None, max_iter=100,\n",
      "                   multi_class='warn', n_jobs=None, penalty='l2',\n",
      "                   random_state=None, solver='warn', tol=0.0001, verbose=0,\n",
      "                   warm_start=False)\n"
     ]
    }
   ],
   "source": [
    "from sklearn.model_selection import GridSearchCV\n",
    "tuned_parameters = [{'C': [10**-4, 10**-2,10**-1,10**0, 10**2, 10**4]}]\n",
    "model = GridSearchCV(LogisticRegression(), tuned_parameters, scoring = 'accuracy', cv=5)\n",
    "model.fit(X=X, y=Y)\n",
    "print(model.best_estimator_)"
   ]
  },
  {
   "cell_type": "code",
   "execution_count": 7,
   "metadata": {},
   "outputs": [
    {
     "name": "stdout",
     "output_type": "stream",
     "text": [
      "1.0\n",
      "[[ 0.00359629 -0.00341974  0.00479981  0.00355269 -0.00341974  0.00377694\n",
      "   0.00316971]]\n"
     ]
    }
   ],
   "source": [
    "from sklearn.metrics import accuracy_score\n",
    "best_model = LogisticRegression(C= 0.0001,random_state=15)\n",
    "best_model.fit(X=X, y=Y)\n",
    "Y_predict = best_model.predict(X)\n",
    "print(accuracy_score(Y, Y_predict))\n",
    "print(best_model.coef_)\n"
   ]
  },
  {
   "cell_type": "code",
   "execution_count": 8,
   "metadata": {},
   "outputs": [
    {
     "name": "stdout",
     "output_type": "stream",
     "text": [
      "LogisticRegression(C=0.0001, class_weight=None, dual=False, fit_intercept=True,\n",
      "                   intercept_scaling=1, l1_ratio=None, max_iter=100,\n",
      "                   multi_class='warn', n_jobs=None, penalty='l2',\n",
      "                   random_state=None, solver='warn', tol=0.0001, verbose=0,\n",
      "                   warm_start=False)\n",
      "1.0\n"
     ]
    }
   ],
   "source": [
    "X1 = X\n",
    "for i,j in enumerate(X):\n",
    "    for k in range(len(j)):\n",
    "          X1[i][k]+= 10**-2\n",
    "tuned_parameters = [{'C': [10**-4, 10**-2,10**-1,10**0, 10**2, 10**4]}]\n",
    "model1 = GridSearchCV(LogisticRegression(), tuned_parameters, scoring = 'accuracy', cv=5)\n",
    "model1.fit(X=X1, y=Y)\n",
    "print(model1.best_estimator_)\n",
    "print(model1.best_score_)"
   ]
  },
  {
   "cell_type": "code",
   "execution_count": 9,
   "metadata": {},
   "outputs": [
    {
     "name": "stdout",
     "output_type": "stream",
     "text": [
      "1.0\n",
      "[[ 0.00359629 -0.00341974  0.00479981  0.00355268 -0.00341974  0.00377694\n",
      "   0.00316971]]\n"
     ]
    }
   ],
   "source": [
    "best_model1 = LogisticRegression(C= 0.0001,random_state=15)\n",
    "best_model1.fit(X=X1, y=Y)\n",
    "Y_pred = best_model1.predict(X1)\n",
    "print(accuracy_score(Y, Y_pred))\n",
    "print(best_model1.coef_)"
   ]
  },
  {
   "cell_type": "code",
   "execution_count": 51,
   "metadata": {},
   "outputs": [
    {
     "name": "stdout",
     "output_type": "stream",
     "text": [
      "0.0\n",
      "[[2.96548494e-09 2.99278986e-09 3.00066848e-09 2.96272272e-09\n",
      "  2.99278986e-09 2.96646388e-09 2.97706296e-09]]\n",
      "[[8.24594669e-05 8.75152305e-05 6.25163888e-05 8.33938804e-05\n",
      "  8.75152305e-05 7.85414224e-05 9.39222693e-05]]\n",
      "top 1 feature with most percentage in change in weights:  w\n",
      "top 2 feature with most percentage in change in weights:  2*y\n",
      "top 3 feature with most percentage in change in weights:  x*x\n",
      "top 4 feature with most percentage in change in weights:  x\n"
     ]
    }
   ],
   "source": [
    "w = best_model.coef_\n",
    "w1 = best_model1.coef_\n",
    "Diff_in_weights = abs(w-w1)\n",
    "accuracy = accuracy_score(Y, Y_predict)\n",
    "accuracy1 = accuracy_score(Y, Y_pred)\n",
    "Diff_in_acc = accuracy - accuracy1\n",
    "print(Diff_in_acc)\n",
    "print(Diff_in_weights)\n",
    "Percentage_diff = (abs(w-w1)/abs(w))*100\n",
    "print(Percentage_diff)\n",
    "dicti={}\n",
    "b = list(data.columns)\n",
    "b.pop(-1)\n",
    "for i in range(len(b)):\n",
    "    dicti.update({Percentage_diff[0][i]:b[i]})\n",
    "a = sorted(dicti.keys(),reverse = True)\n",
    "for i in range(4):\n",
    "    print(\"top\",i+1,\"feature with most percentage in change in weights: \",dicti[a[i]])\n",
    "\n",
    "\n"
   ]
  },
  {
   "cell_type": "markdown",
   "metadata": {},
   "source": [
    "# TASK 2"
   ]
  },
  {
   "cell_type": "code",
   "execution_count": 53,
   "metadata": {},
   "outputs": [
    {
     "data": {
      "text/plain": [
       "SGDClassifier(alpha=0.001, average=False, class_weight=None,\n",
       "              early_stopping=False, epsilon=0.1, eta0=0.001, fit_intercept=True,\n",
       "              l1_ratio=0.15, learning_rate='constant', loss='hinge',\n",
       "              max_iter=1000, n_iter_no_change=5, n_jobs=None, penalty='l2',\n",
       "              power_t=0.5, random_state=15, shuffle=True, tol=0.001,\n",
       "              validation_fraction=0.1, verbose=False, warm_start=False)"
      ]
     },
     "execution_count": 53,
     "metadata": {},
     "output_type": "execute_result"
    }
   ],
   "source": [
    "from sklearn import linear_model\n",
    "clf = linear_model.SGDClassifier(eta0=0.001, alpha=0.001, loss='hinge', random_state=15, penalty='l2', tol=1e-3, verbose=False, learning_rate='constant')\n",
    "clf.fit(X=X, y=Y)"
   ]
  },
  {
   "cell_type": "code",
   "execution_count": 55,
   "metadata": {},
   "outputs": [
    {
     "name": "stdout",
     "output_type": "stream",
     "text": [
      "SVC(C=0.0001, cache_size=200, class_weight=None, coef0=0.0,\n",
      "    decision_function_shape='ovr', degree=3, gamma='auto_deprecated',\n",
      "    kernel='rbf', max_iter=-1, probability=False, random_state=None,\n",
      "    shrinking=True, tol=0.001, verbose=False)\n"
     ]
    }
   ],
   "source": [
    "from sklearn.model_selection import GridSearchCV\n",
    "from sklearn.svm import SVC\n",
    "tuned_parameters = [{'C': [10**-4, 10**-2,10**-1,10**0, 10**2, 10**4]}]\n",
    "model = GridSearchCV(SVC(), tuned_parameters, scoring = 'accuracy', cv=5)\n",
    "model.fit(X=X, y=Y)\n",
    "print(model.best_estimator_)"
   ]
  },
  {
   "cell_type": "code",
   "execution_count": 61,
   "metadata": {},
   "outputs": [
    {
     "name": "stdout",
     "output_type": "stream",
     "text": [
      "0.99\n",
      "[[ 0.0072829  -0.00690684  0.0096999   0.0071957  -0.00690684  0.00764729\n",
      "   0.0064175 ]]\n"
     ]
    }
   ],
   "source": [
    "from sklearn.metrics import accuracy_score\n",
    "best_model = SVC(C= 0.0001,random_state=15,kernel ='linear')\n",
    "best_model.fit(X=X, y=Y)\n",
    "Y_predict = best_model.predict(X)\n",
    "print(accuracy_score(Y, Y_predict))\n",
    "print(best_model.coef_)"
   ]
  },
  {
   "cell_type": "code",
   "execution_count": 62,
   "metadata": {},
   "outputs": [
    {
     "name": "stdout",
     "output_type": "stream",
     "text": [
      "SVC(C=0.0001, cache_size=200, class_weight=None, coef0=0.0,\n",
      "    decision_function_shape='ovr', degree=3, gamma='auto_deprecated',\n",
      "    kernel='rbf', max_iter=-1, probability=False, random_state=None,\n",
      "    shrinking=True, tol=0.001, verbose=False)\n",
      "1.0\n"
     ]
    }
   ],
   "source": [
    "X1 = X\n",
    "for i,j in enumerate(X):\n",
    "    for k in range(len(j)):\n",
    "          X1[i][k]+= 10**-2\n",
    "tuned_parameters = [{'C': [10**-4, 10**-2,10**-1,10**0, 10**2, 10**4]}]\n",
    "model1 = GridSearchCV(SVC(), tuned_parameters, scoring = 'accuracy', cv=5)\n",
    "model1.fit(X=X1, y=Y)\n",
    "print(model1.best_estimator_)\n",
    "print(model1.best_score_)"
   ]
  },
  {
   "cell_type": "code",
   "execution_count": 63,
   "metadata": {},
   "outputs": [
    {
     "name": "stdout",
     "output_type": "stream",
     "text": [
      "0.99\n",
      "[[ 0.0072829  -0.00690684  0.0096999   0.0071957  -0.00690684  0.00764729\n",
      "   0.0064175 ]]\n"
     ]
    }
   ],
   "source": [
    "best_model1 = SVC(C= 0.0001,random_state=15,kernel ='linear')\n",
    "best_model1.fit(X=X1, y=Y)\n",
    "Y_pred = best_model1.predict(X1)\n",
    "print(accuracy_score(Y, Y_pred))\n",
    "print(best_model1.coef_)"
   ]
  },
  {
   "cell_type": "code",
   "execution_count": 64,
   "metadata": {},
   "outputs": [
    {
     "name": "stdout",
     "output_type": "stream",
     "text": [
      "0.0\n",
      "[[1.73472348e-18 8.67361738e-19 5.20417043e-18 1.73472348e-18\n",
      "  8.67361738e-19 3.46944695e-18 0.00000000e+00]]\n",
      "[[2.38191259e-14 1.25580050e-14 5.36517818e-14 2.41077812e-14\n",
      "  1.25580050e-14 4.53683411e-14 0.00000000e+00]]\n",
      "top 1 feature with most percentage in change in weights:  z\n",
      "top 2 feature with most percentage in change in weights:  2*z+3*x*x\n",
      "top 3 feature with most percentage in change in weights:  x*x\n",
      "top 4 feature with most percentage in change in weights:  x\n"
     ]
    }
   ],
   "source": [
    "w = best_model.coef_\n",
    "w1 = best_model1.coef_\n",
    "Diff_in_weights = abs(w-w1)\n",
    "accuracy = accuracy_score(Y, Y_predict)\n",
    "accuracy1 = accuracy_score(Y, Y_pred)\n",
    "Diff_in_acc = accuracy - accuracy1\n",
    "print(Diff_in_acc)\n",
    "print(Diff_in_weights)\n",
    "Percentage_diff = (abs(w-w1)/abs(w))*100\n",
    "print(Percentage_diff)\n",
    "dicti={}\n",
    "b = list(data.columns)\n",
    "b.pop(-1)\n",
    "for i in range(len(b)):\n",
    "    dicti.update({Percentage_diff[0][i]:b[i]})\n",
    "a = sorted(dicti.keys(),reverse = True)\n",
    "for i in range(4):\n",
    "    print(\"top\",i+1,\"feature with most percentage in change in weights: \",dicti[a[i]])\n",
    "\n"
   ]
  }
 ],
 "metadata": {
  "kernelspec": {
   "display_name": "Python 3",
   "language": "python",
   "name": "python3"
  },
  "language_info": {
   "codemirror_mode": {
    "name": "ipython",
    "version": 3
   },
   "file_extension": ".py",
   "mimetype": "text/x-python",
   "name": "python",
   "nbconvert_exporter": "python",
   "pygments_lexer": "ipython3",
   "version": "3.7.4"
  }
 },
 "nbformat": 4,
 "nbformat_minor": 2
}
